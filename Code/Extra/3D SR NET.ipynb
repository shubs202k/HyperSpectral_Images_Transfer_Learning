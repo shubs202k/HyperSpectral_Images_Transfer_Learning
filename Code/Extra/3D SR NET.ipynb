{
 "cells": [
  {
   "cell_type": "code",
   "execution_count": 13,
   "metadata": {},
   "outputs": [],
   "source": [
    "import os\n",
    "import sys\n",
    "import time\n",
    "import scipy.io as sio\n",
    "import numpy as np\n",
    "import scipy\n",
    "import keras\n",
    "import PIL.Image as Image\n",
    "from sklearn.utils import shuffle"
   ]
  },
  {
   "cell_type": "code",
   "execution_count": 14,
   "metadata": {},
   "outputs": [
    {
     "name": "stdout",
     "output_type": "stream",
     "text": [
      "(610, 340, 103)\n"
     ]
    }
   ],
   "source": [
    "uPavia = sio.loadmat('D:\\\\DEVANG_DATA\\\\EE_297_PROJECT\\\\TransferLearning\\\\pavia\\\\PaviaU.mat')\n",
    "gt_uPavia = sio.loadmat('D:\\\\DEVANG_DATA\\\\EE_297_PROJECT\\\\TransferLearning\\\\pavia\\\\PaviaU_gt.mat')\n",
    "data_IN = uPavia['paviaU']\n",
    "gt_IN = gt_uPavia['paviaU_gt']\n",
    "print (data_IN.shape)"
   ]
  },
  {
   "cell_type": "code",
   "execution_count": 15,
   "metadata": {},
   "outputs": [
    {
     "name": "stdout",
     "output_type": "stream",
     "text": [
      "207400\n"
     ]
    }
   ],
   "source": [
    "print(np.prod(gt_IN.shape[:2]))"
   ]
  },
  {
   "cell_type": "code",
   "execution_count": 16,
   "metadata": {},
   "outputs": [
    {
     "data": {
      "text/plain": [
       "<matplotlib.image.AxesImage at 0x19753c74da0>"
      ]
     },
     "execution_count": 16,
     "metadata": {},
     "output_type": "execute_result"
    },
    {
     "data": {
      "image/png": "[encoded data removed]",
      "text/plain": [
       "<Figure size 432x288 with 1 Axes>"
      ]
     },
     "metadata": {
      "needs_background": "light"
     },
     "output_type": "display_data"
    }
   ],
   "source": [
    "import matplotlib.pyplot as plt\n",
    "plt.imshow(gt_IN,)"
   ]
  },
  {
   "cell_type": "code",
   "execution_count": 17,
   "metadata": {},
   "outputs": [
    {
     "data": {
      "text/plain": [
       "207400"
      ]
     },
     "execution_count": 17,
     "metadata": {},
     "output_type": "execute_result"
    }
   ],
   "source": [
    "np.sum(np.unique(gt_IN, return_counts=True)[1])"
   ]
  },
  {
   "cell_type": "code",
   "execution_count": 18,
   "metadata": {},
   "outputs": [
    {
     "data": {
      "text/plain": [
       "(array([0, 1, 2, 3, 4, 5, 6, 7, 8, 9], dtype=uint8),\n",
       " array([164624,   6631,  18649,   2099,   3064,   1345,   5029,   1330,\n",
       "          3682,    947], dtype=int64))"
      ]
     },
     "execution_count": 18,
     "metadata": {},
     "output_type": "execute_result"
    }
   ],
   "source": [
    "np.unique(gt_IN, return_counts=True)"
   ]
  },
  {
   "cell_type": "code",
   "execution_count": 19,
   "metadata": {},
   "outputs": [
    {
     "data": {
      "text/plain": [
       "610"
      ]
     },
     "execution_count": 19,
     "metadata": {},
     "output_type": "execute_result"
    }
   ],
   "source": [
    "len(gt_IN)"
   ]
  },
  {
   "cell_type": "code",
   "execution_count": 20,
   "metadata": {},
   "outputs": [
    {
     "data": {
      "text/plain": [
       "340"
      ]
     },
     "execution_count": 20,
     "metadata": {},
     "output_type": "execute_result"
    }
   ],
   "source": [
    "len(gt_IN[1])"
   ]
  },
  {
   "cell_type": "code",
   "execution_count": 21,
   "metadata": {},
   "outputs": [
    {
     "data": {
      "text/plain": [
       "numpy.uint8"
      ]
     },
     "execution_count": 21,
     "metadata": {},
     "output_type": "execute_result"
    }
   ],
   "source": [
    "type(gt_IN[0][0])"
   ]
  },
  {
   "cell_type": "code",
   "execution_count": 22,
   "metadata": {},
   "outputs": [
    {
     "data": {
      "text/plain": [
       "(array([0, 1, 2], dtype=uint8), array([164624,  24127,  18649], dtype=int64))"
      ]
     },
     "execution_count": 22,
     "metadata": {},
     "output_type": "execute_result"
    }
   ],
   "source": [
    "binary_gt =  np.empty([610, 340], dtype=np.uint8)\n",
    "for i in range(len(gt_IN)):\n",
    "    for j in range(len(gt_IN[0])):\n",
    "        if gt_IN[i][j] == 0:\n",
    "            binary_gt[i][j] = 0\n",
    "        elif gt_IN[i][j] == 2:\n",
    "            binary_gt[i][j] = 2\n",
    "        else:\n",
    "            binary_gt[i][j] = 1\n",
    "np.unique(binary_gt, return_counts=True)"
   ]
  },
  {
   "cell_type": "code",
   "execution_count": 11,
   "metadata": {},
   "outputs": [
    {
     "data": {
      "text/plain": [
       "24127"
      ]
     },
     "execution_count": 11,
     "metadata": {},
     "output_type": "execute_result"
    }
   ],
   "source": [
    "610*340 - 164624 - 18649"
   ]
  },
  {
   "cell_type": "code",
   "execution_count": 12,
   "metadata": {},
   "outputs": [
    {
     "data": {
      "text/plain": [
       "<matplotlib.image.AxesImage at 0x27211158c50>"
      ]
     },
     "execution_count": 12,
     "metadata": {},
     "output_type": "execute_result"
    },
    {
     "data": {
      "image/png": "[encoded data removed]",
      "text/plain": [
       "<Figure size 432x288 with 1 Axes>"
      ]
     },
     "metadata": {
      "needs_background": "light"
     },
     "output_type": "display_data"
    }
   ],
   "source": [
    "import matplotlib.pyplot as plt\n",
    "plt.imshow(binary_gt)"
   ]
  },
  {
   "cell_type": "code",
   "execution_count": 13,
   "metadata": {},
   "outputs": [
    {
     "data": {
      "text/plain": [
       "(610, 340)"
      ]
     },
     "execution_count": 13,
     "metadata": {},
     "output_type": "execute_result"
    }
   ],
   "source": [
    "binary_gt.shape"
   ]
  },
  {
   "cell_type": "markdown",
   "metadata": {},
   "source": [
    "# Stride 1 Cubes 50x50x103"
   ]
  },
  {
   "cell_type": "code",
   "execution_count": 14,
   "metadata": {},
   "outputs": [
    {
     "data": {
      "text/plain": [
       "((42858, 103, 50, 50), (42858,))"
      ]
     },
     "execution_count": 14,
     "metadata": {},
     "output_type": "execute_result"
    }
   ],
   "source": [
    "# small_segmented = np.empty([157431,50,50,103],dtype=np.uint8)\n",
    "small_segmented_1 = []\n",
    "small_seg_gt_1 = []\n",
    "\n",
    "for i in range(49,len(data_IN)):\n",
    "    for j in range(49,len(data_IN[0])):\n",
    "        values,counts = np.unique(binary_gt[(i-49):i+1, (j-49):j+1],return_counts=True)\n",
    "        values,counts\n",
    "        if len(values)==1 and values[0] != 0:\n",
    "            small_segmented_1.append(np.asarray(data_IN[(i-49):i+1, (j-49):j+1,:]))\n",
    "            small_seg_gt_1.append(values[0]-1)\n",
    "        if len(values)==2 and values[0] != 0 and values[1] != 0:\n",
    "            small_segmented_1.append(np.asarray(data_IN[(i-49):i+1, (j-49):j+1,:]))\n",
    "            small_seg_gt_1.append(values[np.argmax(counts)] - 1)\n",
    "        if len(values)==3 and counts[1]>counts[2]:\n",
    "            small_segmented_1.append(np.asarray(data_IN[(i-49):i+1, (j-49):j+1,:]))\n",
    "            small_seg_gt_1.append(values[1] - 1)\n",
    "        if len(values)==3 and counts[1]<counts[2]:\n",
    "            small_segmented_1.append(np.asarray(data_IN[(i-49):i+1, (j-49):j+1,:]))\n",
    "            small_seg_gt_1.append(values[2] - 1)\n",
    "        \n",
    "small_segmented_1 = np.array(small_segmented_1)\n",
    "small_seg_gt_1 = np.array(small_seg_gt_1)\n",
    "small_segmented_1 =np.moveaxis(small_segmented_1, 3, 1)\n",
    "small_segmented_1.shape, small_seg_gt_1.shape"
   ]
  },
  {
   "cell_type": "code",
   "execution_count": 101,
   "metadata": {},
   "outputs": [
    {
     "data": {
      "text/plain": [
       "((3193, 103, 5, 5), (3193,))"
      ]
     },
     "execution_count": 101,
     "metadata": {},
     "output_type": "execute_result"
    }
   ],
   "source": [
    "# small_segmented = np.empty([157431,50,50,103],dtype=np.uint8)\n",
    "small_segmented_1 = []\n",
    "small_seg_gt_1 = []\n",
    "\n",
    "for i in range(4,len(data_IN),5):\n",
    "    for j in range(4,len(data_IN[0]),5):\n",
    "        values,counts = np.unique(gt_IN[(i-4):i+1, (j-4):j+1],return_counts=True)\n",
    "        values,counts\n",
    "        if len(values)==1 and values[0] != 0:\n",
    "            small_segmented_1.append(np.asarray(data_IN[(i-4):i+1, (j-4):j+1,:]))\n",
    "            small_seg_gt_1.append(values[0]-1)\n",
    "        elif len(values)>=2 and values[0] == 0 :\n",
    "            small_segmented_1.append(np.asarray(data_IN[(i-4):i+1, (j-4):j+1,:]))\n",
    "            small_seg_gt_1.append(values[np.argmax(counts[1:]) + 1] - 1)\n",
    "        elif len(values)>=2 and values[0] != 0:\n",
    "            small_segmented_1.append(np.asarray(data_IN[(i-4):i+1, (j-4):j+1,:]))\n",
    "            small_seg_gt_1.append(values[np.argmax(counts[1:])] - 1)\n",
    "        \n",
    "small_segmented_1 = np.array(small_segmented_1)\n",
    "small_seg_gt_1 = np.array(small_seg_gt_1)\n",
    "small_segmented_1 =np.moveaxis(small_segmented_1, 3, 1)\n",
    "small_segmented_1.shape, small_seg_gt_1.shape"
   ]
  },
  {
   "cell_type": "code",
   "execution_count": 14,
   "metadata": {},
   "outputs": [
    {
     "data": {
      "text/plain": [
       "((3193, 103, 5, 5), (3193,))"
      ]
     },
     "execution_count": 14,
     "metadata": {},
     "output_type": "execute_result"
    }
   ],
   "source": [
    "# small_segmented = np.empty([157431,50,50,103],dtype=np.uint8)\n",
    "small_segmented_1 = []\n",
    "small_seg_gt_1 = []\n",
    "\n",
    "for i in range(4,len(data_IN),5):\n",
    "    for j in range(4,len(data_IN[0]),5):\n",
    "        values,counts = np.unique(gt_IN[(i-4):i+1, (j-4):j+1],return_counts=True)\n",
    "        values,counts\n",
    "        if len(values)==1 and values[0] != 0:\n",
    "            small_segmented_1.append(np.asarray(data_IN[(i-4):i+1, (j-4):j+1,:]))\n",
    "            small_seg_gt_1.append(values[0])\n",
    "        elif len(values)>=2 and values[0] == 0 :\n",
    "            small_segmented_1.append(np.asarray(data_IN[(i-4):i+1, (j-4):j+1,:]))\n",
    "            small_seg_gt_1.append(values[np.argmax(counts[1:]) + 1])\n",
    "        elif len(values)>=2 and values[0] != 0:\n",
    "            small_segmented_1.append(np.asarray(data_IN[(i-4):i+1, (j-4):j+1,:]))\n",
    "            small_seg_gt_1.append(values[np.argmax(counts)])\n",
    "        \n",
    "small_segmented_1 = np.array(small_segmented_1)\n",
    "small_seg_gt_1 = np.array(small_seg_gt_1)\n",
    "small_segmented_1 =np.moveaxis(small_segmented_1, 3, 1)\n",
    "small_segmented_1.shape, small_seg_gt_1.shape"
   ]
  },
  {
   "cell_type": "code",
   "execution_count": 15,
   "metadata": {},
   "outputs": [
    {
     "data": {
      "text/plain": [
       "(array([1, 2, 3, 4, 5, 6, 7, 8, 9], dtype=uint8),\n",
       " array([598, 905, 186, 514, 107, 234,  95, 420, 134], dtype=int64))"
      ]
     },
     "execution_count": 15,
     "metadata": {},
     "output_type": "execute_result"
    }
   ],
   "source": [
    "np.unique(small_seg_gt_1, return_counts=True)"
   ]
  },
  {
   "cell_type": "code",
   "execution_count": 16,
   "metadata": {},
   "outputs": [
    {
     "data": {
      "text/plain": [
       "((3193, 38, 5, 5), (3193,))"
      ]
     },
     "execution_count": 16,
     "metadata": {},
     "output_type": "execute_result"
    }
   ],
   "source": [
    "small_segmented_1_38 = np.empty((len(small_segmented_1),38,5,5), dtype=np.uint8)\n",
    "for i in range(len(small_segmented_1)):\n",
    "    for j in range(38):\n",
    "        if j < 32:\n",
    "            small_segmented_1_38[i] = np.mean(small_segmented_1[i][j*3:(j+1)*3],axis=0)\n",
    "        else:\n",
    "            small_segmented_1_38[i] = small_segmented_1[i][96+j-32]\n",
    "\n",
    "small_segmented_1_38.shape, small_seg_gt_1.shape"
   ]
  },
  {
   "cell_type": "markdown",
   "metadata": {},
   "source": [
    "# Stride 5 Cubes 50x50x103"
   ]
  },
  {
   "cell_type": "code",
   "execution_count": 14,
   "metadata": {},
   "outputs": [
    {
     "data": {
      "text/plain": [
       "((1754, 103, 50, 50), (1754,))"
      ]
     },
     "execution_count": 14,
     "metadata": {},
     "output_type": "execute_result"
    }
   ],
   "source": [
    "# small_segmented = np.empty([157431,50,50,103],dtype=np.uint8)\n",
    "small_segmented_5 = []\n",
    "small_seg_gt_5 = []\n",
    "\n",
    "for i in range(49,len(data_IN),5):\n",
    "    for j in range(49,len(data_IN[0]),5):\n",
    "        values,counts = np.unique(binary_gt[(i-49):i+1, (j-49):j+1],return_counts=True)\n",
    "        values,counts\n",
    "        if len(values)==1 and values[0] != 0:\n",
    "            small_segmented_5.append(np.asarray(data_IN[(i-49):i+1, (j-49):j+1,:]))\n",
    "            small_seg_gt_5.append(values[0]-1)\n",
    "        if len(values)==2 and values[0] != 0 and values[1] != 0:\n",
    "            small_segmented_5.append(np.asarray(data_IN[(i-49):i+1, (j-49):j+1,:]))\n",
    "            small_seg_gt_5.append(values[np.argmax(counts)] - 1)\n",
    "        if len(values)==3 and counts[1]>counts[2]:\n",
    "            small_segmented_5.append(np.asarray(data_IN[(i-49):i+1, (j-49):j+1,:]))\n",
    "            small_seg_gt_5.append(values[1] - 1)\n",
    "        if len(values)==3 and counts[1]<counts[2]:\n",
    "            small_segmented_5.append(np.asarray(data_IN[(i-49):i+1, (j-49):j+1,:]))\n",
    "            small_seg_gt_5.append(values[2] - 1)\n",
    "        \n",
    "small_segmented_5 = np.array(small_segmented_5)\n",
    "small_seg_gt_5 = np.array(small_seg_gt_5)\n",
    "small_segmented_5 =np.moveaxis(small_segmented_5, 3, 1)\n",
    "small_segmented_5.shape, small_seg_gt_5.shape"
   ]
  },
  {
   "cell_type": "code",
   "execution_count": 15,
   "metadata": {},
   "outputs": [
    {
     "data": {
      "text/plain": [
       "((1754, 38, 50, 50), (1754,))"
      ]
     },
     "execution_count": 15,
     "metadata": {},
     "output_type": "execute_result"
    }
   ],
   "source": [
    "small_segmented_5_38 = np.empty((len(small_segmented_5),38,50,50), dtype=np.uint8)\n",
    "for i in range(len(small_segmented_5)):\n",
    "    for j in range(38):\n",
    "        if j < 32:\n",
    "            small_segmented_5_38[i] = np.mean(small_segmented_5[i][j*3:(j+1)*3],axis=0)\n",
    "        else:\n",
    "            small_segmented_5_38[i] = small_segmented_5[i][96+j-32]\n",
    "\n",
    "small_segmented_5_38.shape, small_seg_gt_5.shape"
   ]
  },
  {
   "cell_type": "markdown",
   "metadata": {},
   "source": [
    "# Stride 10 Cubes 50x50x103"
   ]
  },
  {
   "cell_type": "code",
   "execution_count": 16,
   "metadata": {},
   "outputs": [
    {
     "data": {
      "text/plain": [
       "((452, 103, 50, 50), (452,))"
      ]
     },
     "execution_count": 16,
     "metadata": {},
     "output_type": "execute_result"
    }
   ],
   "source": [
    "# small_segmented = np.empty([157431,50,50,103],dtype=np.uint8)\n",
    "small_segmented_10 = []\n",
    "small_seg_gt_10 = []\n",
    " \n",
    "for i in range(49,len(data_IN),10):\n",
    "    for j in range(49,len(data_IN[0]),10):\n",
    "        values,counts = np.unique(binary_gt[(i-49):i+1, (j-49):j+1],return_counts=True)\n",
    "        values,counts\n",
    "        if len(values)==1 and values[0] != 0:\n",
    "            small_segmented_10.append(np.asarray(data_IN[(i-49):i+1, (j-49):j+1,:]))\n",
    "            small_seg_gt_10.append(values[0]-1)\n",
    "        if len(values)==2 and values[0] != 0 and values[1] != 0:\n",
    "            small_segmented_10.append(np.asarray(data_IN[(i-49):i+1, (j-49):j+1,:]))\n",
    "            small_seg_gt_10.append(values[np.argmax(counts)] - 1)\n",
    "        if len(values)==3 and counts[1]>counts[2]:\n",
    "            small_segmented_10.append(np.asarray(data_IN[(i-49):i+1, (j-49):j+1,:]))\n",
    "            small_seg_gt_10.append(values[1] - 1)\n",
    "        if len(values)==3 and counts[1]<counts[2]:\n",
    "            small_segmented_10.append(np.asarray(data_IN[(i-49):i+1, (j-49):j+1,:]))\n",
    "            small_seg_gt_10.append(values[2] - 1)\n",
    "            \n",
    "small_segmented_10 = np.array(small_segmented_10)\n",
    "small_seg_gt_10 = np.array(small_seg_gt_10)\n",
    "small_segmented_10 =np.moveaxis(small_segmented_10, 3, 1)\n",
    "small_segmented_10.shape, small_seg_gt_10.shape"
   ]
  },
  {
   "cell_type": "code",
   "execution_count": 17,
   "metadata": {},
   "outputs": [
    {
     "data": {
      "text/plain": [
       "((452, 38, 50, 50), (452,))"
      ]
     },
     "execution_count": 17,
     "metadata": {},
     "output_type": "execute_result"
    }
   ],
   "source": [
    "small_segmented_10_38 = np.empty((len(small_segmented_10),38,50,50), dtype=np.uint8)\n",
    "for i in range(len(small_segmented_10)):\n",
    "    for j in range(38):\n",
    "        if j < 32:\n",
    "            small_segmented_10_38[i] = np.mean(small_segmented_10[i][j*3:(j+1)*3],axis=0)\n",
    "        else:\n",
    "            small_segmented_10_38[i] = small_segmented_10[i][96+j-32]\n",
    "\n",
    "small_segmented_10_38.shape, small_seg_gt_10.shape"
   ]
  },
  {
   "cell_type": "markdown",
   "metadata": {},
   "source": [
    "# Stride 25 Cubes 50x50x103"
   ]
  },
  {
   "cell_type": "code",
   "execution_count": 18,
   "metadata": {},
   "outputs": [
    {
     "data": {
      "text/plain": [
       "((78, 103, 50, 50), (78,))"
      ]
     },
     "execution_count": 18,
     "metadata": {},
     "output_type": "execute_result"
    }
   ],
   "source": [
    "# small_segmented = np.empty([157431,50,50,103],dtype=np.uint8)\n",
    "small_segmented_25 = []\n",
    "small_seg_gt_25 = []\n",
    "\n",
    "for i in range(49,len(data_IN),25):\n",
    "    for j in range(49,len(data_IN[0]),25):\n",
    "        values,counts = np.unique(binary_gt[(i-49):i+1, (j-49):j+1],return_counts=True)\n",
    "        values,counts\n",
    "        if len(values)==1 and values[0] != 0:\n",
    "            small_segmented_25.append(np.asarray(data_IN[(i-49):i+1, (j-49):j+1,:]))\n",
    "            small_seg_gt_25.append(values[0]-1)\n",
    "        if len(values)==2 and values[0] != 0 and values[1] != 0:\n",
    "            small_segmented_25.append(np.asarray(data_IN[(i-49):i+1, (j-49):j+1,:]))\n",
    "            small_seg_gt_25.append(values[np.argmax(counts)] - 1)\n",
    "        if len(values)==3 and counts[1]>counts[2]:\n",
    "            small_segmented_25.append(np.asarray(data_IN[(i-49):i+1, (j-49):j+1,:]))\n",
    "            small_seg_gt_25.append(values[1] - 1)\n",
    "        if len(values)==3 and counts[1]<counts[2]:\n",
    "            small_segmented_25.append(np.asarray(data_IN[(i-49):i+1, (j-49):j+1,:]))\n",
    "            small_seg_gt_25.append(values[2] - 1)\n",
    "        \n",
    "small_segmented_25 = np.array(small_segmented_25)\n",
    "small_seg_gt_25 = np.array(small_seg_gt_25)\n",
    "small_segmented_25 =np.moveaxis(small_segmented_25, 3, 1)\n",
    "small_segmented_25.shape, small_seg_gt_25.shape"
   ]
  },
  {
   "cell_type": "code",
   "execution_count": 19,
   "metadata": {},
   "outputs": [
    {
     "data": {
      "text/plain": [
       "((78, 38, 50, 50), (78,))"
      ]
     },
     "execution_count": 19,
     "metadata": {},
     "output_type": "execute_result"
    }
   ],
   "source": [
    "small_segmented_25_38 = np.empty((len(small_segmented_25),38,50,50), dtype=np.uint8)\n",
    "for i in range(len(small_segmented_25)):\n",
    "    for j in range(38):\n",
    "        if j < 32:\n",
    "            small_segmented_25_38[i] = np.mean(small_segmented_25[i][j*3:(j+1)*3],axis=0)\n",
    "        else:\n",
    "            small_segmented_25_38[i] = small_segmented_25[i][96+j-32]\n",
    "\n",
    "small_segmented_25_38.shape, small_seg_gt_25.shape"
   ]
  },
  {
   "cell_type": "markdown",
   "metadata": {},
   "source": [
    "# Stride 50 Cubes 50x50x103"
   ]
  },
  {
   "cell_type": "code",
   "execution_count": 87,
   "metadata": {},
   "outputs": [
    {
     "data": {
      "text/plain": [
       "((1754, 103, 50, 50), (1754,))"
      ]
     },
     "execution_count": 87,
     "metadata": {},
     "output_type": "execute_result"
    }
   ],
   "source": [
    "# small_segmented = np.empty([157431,50,50,103],dtype=np.uint8)\n",
    "small_segmented_50 = []\n",
    "small_seg_gt_50 = []\n",
    "\n",
    "for i in range(49,len(data_IN),50):\n",
    "    for j in range(49,len(data_IN[0]),50):\n",
    "        values,counts = np.unique(binary_gt[(i-49):i+1, (j-49):j+1],return_counts=True)\n",
    "        values,counts\n",
    "        if len(values)==1 and values[0] != 0:\n",
    "            small_segmented_50.append(np.asarray(data_IN[(i-49):i+1, (j-49):j+1,:]))\n",
    "            small_seg_gt_50.append(values[0]-1)\n",
    "        if len(values)==2 and values[0] != 0 and values[1] != 0:\n",
    "            small_segmented_50.append(np.asarray(data_IN[(i-49):i+1, (j-49):j+1,:]))\n",
    "            small_seg_gt_50.append(values[np.argmax(counts)] - 1)\n",
    "        if len(values)==3 and counts[1]>counts[2]:\n",
    "            small_segmented_50.append(np.asarray(data_IN[(i-49):i+1, (j-49):j+1,:]))\n",
    "            small_seg_gt_50.append(values[1] - 1)\n",
    "        if len(values)==3 and counts[1]<counts[2]:\n",
    "            small_segmented_50.append(np.asarray(data_IN[(i-49):i+1, (j-49):j+1,:]))\n",
    "            small_seg_gt_50.append(values[2] - 1)\n",
    "small_segmented_50 = np.array(small_segmented_50)\n",
    "small_seg_gt_50 = np.array(small_seg_gt_50)\n",
    "small_segmented_50 =np.moveaxis(small_segmented_50, 3, 1)\n",
    "small_segmented_50.shape, small_seg_gt_50.shape"
   ]
  },
  {
   "cell_type": "code",
   "execution_count": 14,
   "metadata": {},
   "outputs": [
    {
     "data": {
      "text/plain": [
       "((6175, 103, 50, 50), (6175,))"
      ]
     },
     "execution_count": 14,
     "metadata": {},
     "output_type": "execute_result"
    }
   ],
   "source": [
    "# small_segmented = np.empty([157431,50,50,103],dtype=np.uint8)\n",
    "small_segmented_50 = []\n",
    "small_seg_gt_50 = []\n",
    "\n",
    "for i in range(49,len(data_IN),5):\n",
    "    for j in range(49,len(gt_IN[0]),5):\n",
    "        values,counts = np.unique(gt_IN[(i-49):i+1, (j-49):j+1],return_counts=True)\n",
    "        values,counts\n",
    "        if len(values)==1 and values[0] != 0:\n",
    "            small_segmented_50.append(np.asarray(data_IN[(i-49):i+1, (j-49):j+1,:]))\n",
    "            small_seg_gt_50.append(values[0])\n",
    "        if len(values)>=2 and values[0] != 0:\n",
    "            small_segmented_50.append(np.asarray(data_IN[(i-49):i+1, (j-49):j+1,:]))\n",
    "            small_seg_gt_50.append(values[np.argmax(counts)])\n",
    "        if len(values)>=2 and values[0] == 0:\n",
    "            small_segmented_50.append(np.asarray(data_IN[(i-49):i+1, (j-49):j+1,:]))\n",
    "            small_seg_gt_50.append(values[np.argmax(counts[1:])+1])\n",
    "        if len(values)==3 and counts[1]<counts[2]:\n",
    "            small_segmented_50.append(np.asarray(data_IN[(i-49):i+1, (j-49):j+1,:]))\n",
    "            small_seg_gt_50.append(values[2] - 1)\n",
    "small_segmented_50 = np.array(small_segmented_50)\n",
    "small_seg_gt_50 = np.array(small_seg_gt_50)\n",
    "small_segmented_50 =np.moveaxis(small_segmented_50, 3, 1)\n",
    "small_segmented_50.shape, small_seg_gt_50.shape"
   ]
  },
  {
   "cell_type": "code",
   "execution_count": 15,
   "metadata": {},
   "outputs": [
    {
     "data": {
      "text/plain": [
       "((6175, 38, 50, 50), (6175,))"
      ]
     },
     "execution_count": 15,
     "metadata": {},
     "output_type": "execute_result"
    }
   ],
   "source": [
    "small_segmented_50_38 = np.empty((len(small_segmented_50),38,50,50), dtype=np.uint8)\n",
    "for i in range(len(small_segmented_50)):\n",
    "    for j in range(38):\n",
    "        if j < 32:\n",
    "            small_segmented_50_38[i] = np.mean(small_segmented_50[i][j*3:(j+1)*3],axis=0)\n",
    "        else:\n",
    "            small_segmented_50_38[i] = small_segmented_50[i][96+j-32]\n",
    "\n",
    "small_segmented_50_38.shape, small_seg_gt_50.shape"
   ]
  },
  {
   "cell_type": "code",
   "execution_count": 16,
   "metadata": {},
   "outputs": [
    {
     "data": {
      "text/plain": [
       "((6175, 38, 50, 50), (6175,))"
      ]
     },
     "execution_count": 16,
     "metadata": {},
     "output_type": "execute_result"
    }
   ],
   "source": [
    "small_segmented_50_38.shape,small_seg_gt_50.shape"
   ]
  },
  {
   "cell_type": "code",
   "execution_count": 17,
   "metadata": {},
   "outputs": [
    {
     "data": {
      "text/plain": [
       "(array([1, 2, 3, 4, 5, 6, 7, 8, 9]),\n",
       " array([1448, 1370,  574,  671,  319,  456,  389,  834,  114], dtype=int64))"
      ]
     },
     "execution_count": 17,
     "metadata": {},
     "output_type": "execute_result"
    }
   ],
   "source": [
    "np.unique(small_seg_gt_50, return_counts=True)"
   ]
  },
  {
   "cell_type": "code",
   "execution_count": 18,
   "metadata": {},
   "outputs": [
    {
     "data": {
      "text/plain": [
       "((6175, 38, 50, 50), (6175,))"
      ]
     },
     "execution_count": 18,
     "metadata": {},
     "output_type": "execute_result"
    }
   ],
   "source": [
    "small_segmented_50_38_s = shuffle(small_segmented_50_38)\n",
    "small_seg_gt_50_s = shuffle(small_seg_gt_50)\n",
    "small_segmented_50_38_s.shape,small_seg_gt_50_s.shape"
   ]
  },
  {
   "cell_type": "code",
   "execution_count": 19,
   "metadata": {},
   "outputs": [],
   "source": [
    "Xtrain = small_segmented_50_38_s[:int(np.floor(len(small_segmented_50_38_s)*0.8))]\n",
    "Xtest = small_segmented_50_38_s[int(np.floor(len(small_segmented_50_38_s)*0.8)):]\n",
    "Ytrain = small_seg_gt_50_s[:int(np.floor(len(small_seg_gt_50_s)*0.8))]\n",
    "Ytest = small_seg_gt_50_s[int(np.floor(len(small_seg_gt_50_s)*0.8)):]"
   ]
  },
  {
   "cell_type": "code",
   "execution_count": 20,
   "metadata": {},
   "outputs": [
    {
     "data": {
      "text/plain": [
       "array([2, 2, 2, ..., 1, 3, 8])"
      ]
     },
     "execution_count": 20,
     "metadata": {},
     "output_type": "execute_result"
    }
   ],
   "source": [
    "Ytrain"
   ]
  },
  {
   "cell_type": "code",
   "execution_count": 21,
   "metadata": {},
   "outputs": [
    {
     "data": {
      "text/plain": [
       "((array([1, 2, 3, 4, 5, 6, 7, 8, 9]),\n",
       "  array([1158, 1098,  463,  539,  247,  377,  303,  667,   88], dtype=int64)),\n",
       " (array([1, 2, 3, 4, 5, 6, 7, 8, 9]),\n",
       "  array([290, 272, 111, 132,  72,  79,  86, 167,  26], dtype=int64)))"
      ]
     },
     "execution_count": 21,
     "metadata": {},
     "output_type": "execute_result"
    }
   ],
   "source": [
    "np.unique(Ytrain, return_counts=True), np.unique(Ytest, return_counts=True)"
   ]
  },
  {
   "cell_type": "code",
   "execution_count": 22,
   "metadata": {},
   "outputs": [],
   "source": [
    "def norm(array):\n",
    "    for i in range(len(array)):\n",
    "        array[i] = (array[i]/np.max(array[i]))\n",
    "\n",
    "    array = array.astype(np.uint16)\n",
    "    return array"
   ]
  },
  {
   "cell_type": "code",
   "execution_count": 23,
   "metadata": {},
   "outputs": [
    {
     "data": {
      "text/plain": [
       "((0, 1), (0, 1))"
      ]
     },
     "execution_count": 23,
     "metadata": {},
     "output_type": "execute_result"
    }
   ],
   "source": [
    "Xtrain = norm(Xtrain)\n",
    "Xtest = norm(Xtest)\n",
    "(np.min(Xtrain),np.max(Xtrain)),(np.min(Xtest),np.max(Xtest))"
   ]
  },
  {
   "cell_type": "code",
   "execution_count": 24,
   "metadata": {},
   "outputs": [],
   "source": [
    "Xtrain = np.expand_dims(Xtrain,axis=4) \n",
    "Xtest = np.expand_dims(Xtest,axis=4) "
   ]
  },
  {
   "cell_type": "code",
   "execution_count": 25,
   "metadata": {},
   "outputs": [
    {
     "data": {
      "text/plain": [
       "((4940, 38, 50, 50, 1), (1235, 38, 50, 50, 1))"
      ]
     },
     "execution_count": 25,
     "metadata": {},
     "output_type": "execute_result"
    }
   ],
   "source": [
    "Xtrain.shape, Xtest.shape"
   ]
  },
  {
   "cell_type": "code",
   "execution_count": 26,
   "metadata": {},
   "outputs": [
    {
     "data": {
      "text/plain": [
       "((4940, 50, 50, 38, 1), (1235, 50, 50, 38, 1))"
      ]
     },
     "execution_count": 26,
     "metadata": {},
     "output_type": "execute_result"
    }
   ],
   "source": [
    "Xtrain =np.moveaxis(Xtrain, 1, 3)\n",
    "Xtest =np.moveaxis(Xtest, 1, 3)\n",
    "Xtrain.shape, Xtest.shape"
   ]
  },
  {
   "cell_type": "code",
   "execution_count": 27,
   "metadata": {},
   "outputs": [
    {
     "name": "stderr",
     "output_type": "stream",
     "text": [
      "C:\\Users\\devang1997\\software\\Anaconda\\lib\\site-packages\\sklearn\\preprocessing\\_encoders.py:415: FutureWarning: The handling of integer data will change in version 0.22. Currently, the categories are determined based on the range [0, max(values)], while in the future they will be determined based on the unique values.\n",
      "If you want the future behaviour and silence this warning, you can specify \"categories='auto'\".\n",
      "In case you used a LabelEncoder before this OneHotEncoder to convert the categories to integers, then you can now use the OneHotEncoder directly.\n",
      "  warnings.warn(msg, FutureWarning)\n",
      "C:\\Users\\devang1997\\software\\Anaconda\\lib\\site-packages\\sklearn\\preprocessing\\_encoders.py:415: FutureWarning: The handling of integer data will change in version 0.22. Currently, the categories are determined based on the range [0, max(values)], while in the future they will be determined based on the unique values.\n",
      "If you want the future behaviour and silence this warning, you can specify \"categories='auto'\".\n",
      "In case you used a LabelEncoder before this OneHotEncoder to convert the categories to integers, then you can now use the OneHotEncoder directly.\n",
      "  warnings.warn(msg, FutureWarning)\n"
     ]
    },
    {
     "data": {
      "text/plain": [
       "(array([0., 1., 0., 0., 0., 0., 0., 0., 0.]),\n",
       " array([0., 0., 1., 0., 0., 0., 0., 0., 0.]))"
      ]
     },
     "execution_count": 27,
     "metadata": {},
     "output_type": "execute_result"
    }
   ],
   "source": [
    "from sklearn.preprocessing import OneHotEncoder\n",
    "onehot_encoder = OneHotEncoder(sparse=False)\n",
    "Ytrain = Ytrain.reshape(len(Ytrain), 1)\n",
    "Ytest = Ytest.reshape(len(Ytest),1)\n",
    "Ytrain = onehot_encoder.fit_transform(Ytrain)\n",
    "Ytest = onehot_encoder.fit_transform(Ytest)\n",
    "Ytrain[0], Ytest[0]"
   ]
  },
  {
   "cell_type": "code",
   "execution_count": 28,
   "metadata": {},
   "outputs": [
    {
     "data": {
      "text/plain": [
       "(4940, 9)"
      ]
     },
     "execution_count": 28,
     "metadata": {},
     "output_type": "execute_result"
    }
   ],
   "source": [
    "Ytrain.shape"
   ]
  },
  {
   "cell_type": "code",
   "execution_count": 29,
   "metadata": {},
   "outputs": [],
   "source": [
    "import numpy as np\n",
    "from keras import layers\n",
    "from keras.layers import Input, Add, Dense, Activation, ZeroPadding3D, BatchNormalization, Flatten, Conv3D, AveragePooling3D, MaxPooling3D, GlobalMaxPooling3D\n",
    "from keras.models import Model, load_model\n",
    "from keras.preprocessing import image\n",
    "from keras.utils import layer_utils\n",
    "from keras.utils.data_utils import get_file\n",
    "from keras.applications.imagenet_utils import preprocess_input\n",
    "from IPython.display import SVG\n",
    "from keras.utils.vis_utils import model_to_dot\n",
    "from keras.utils import plot_model\n",
    "from Resnet_utils import *\n",
    "from keras.initializers import glorot_uniform\n",
    "import scipy.misc\n",
    "from matplotlib.pyplot import imshow\n",
    "%matplotlib inline\n",
    "from keras.regularizers import l2\n",
    "import keras.backend as K\n",
    "K.set_image_data_format('channels_last')\n",
    "K.set_learning_phase(1)"
   ]
  },
  {
   "cell_type": "code",
   "execution_count": 30,
   "metadata": {},
   "outputs": [],
   "source": [
    "def SR_Unit(X, filters, stage, block):\n",
    "\n",
    "    # defining name basis\n",
    "    conv_name_base = 'res' + str(stage) + block + '_branch'\n",
    "    bn_name_base = 'bn' + str(stage) + block + '_branch'\n",
    "    \n",
    "    # Retrieve Filters\n",
    "    F1, F2, F3, F4 = filters\n",
    "    \n",
    "    # Save the input value\n",
    "    X_shortcut = X\n",
    "    print(X.shape)\n",
    "\n",
    "    X = Conv3D(F1, (1, 1, 1), name = conv_name_base + '2a', kernel_regularizer=l2(0.000001), bias_regularizer=l2(0.00001), kernel_initializer = glorot_uniform(seed=0))(X)\n",
    "    print(X.shape)\n",
    "    print('--------')\n",
    "    X = BatchNormalization(axis = 4, name = bn_name_base + '2a')(X)\n",
    "    X = Activation('relu')(X)\n",
    "    print(X.shape)\n",
    "\n",
    "    X = Conv3D(F2, kernel_size = (3, 3, 1), strides = (2, 2, 1), name = conv_name_base + '2b', kernel_regularizer=l2(0.000001), bias_regularizer=l2(0.00001), kernel_initializer = glorot_uniform(seed=0))(X)\n",
    "    X = BatchNormalization(axis = 4, name = bn_name_base + '2b')(X)\n",
    "    X = Activation('relu')(X)\n",
    "    print(X.shape)\n",
    "\n",
    "\n",
    "    X = Conv3D(F3, kernel_size = (1, 1, 3), strides = (1, 1, 2), name = conv_name_base + '2c', kernel_regularizer=l2(0.000001), bias_regularizer=l2(0.00001), kernel_initializer = glorot_uniform(seed=0))(X)\n",
    "    X = BatchNormalization(axis = 4, name = bn_name_base + '2c')(X)\n",
    "    X = Activation('relu')(X)\n",
    "    print(X.shape)\n",
    "\n",
    "    \n",
    "    \n",
    "    X = Conv3D(F4, kernel_size = (1, 1, 1), name = conv_name_base + '2d', kernel_regularizer=l2(0.000001), bias_regularizer=l2(0.00001), kernel_initializer = glorot_uniform(seed=0))(X)\n",
    "    X = BatchNormalization(axis = 4, name = bn_name_base + '2d')(X)\n",
    "    print(X.shape)\n",
    "\n",
    "    \n",
    "    X_shortcut = Conv3D(filters = F4, kernel_size = (3, 3, 3), strides = (2,2,2), padding = 'valid', name = conv_name_base + '1', kernel_regularizer=l2(0.000001), bias_regularizer=l2(0.00001), kernel_initializer = glorot_uniform(seed=0))(X_shortcut)\n",
    "    X_shortcut = BatchNormalization(axis = 4, name = bn_name_base + '1')(X_shortcut)\n",
    "\n",
    "\n",
    "    X = Add()([X, X_shortcut])\n",
    "    print(X.shape)\n",
    "    X = Activation('relu')(X)\n",
    "    \n",
    "    \n",
    "    return X"
   ]
  },
  {
   "cell_type": "code",
   "execution_count": 31,
   "metadata": {},
   "outputs": [],
   "source": [
    "def model(input_shape=(50, 50, 38, 1), classes=10):\n",
    "    \"\"\"\n",
    "    Implementation of the popular ResNet50 the following architecture:\n",
    "    CONV2D -> BATCHNORM -> RELU -> MAXPOOL -> CONVBLOCK -> IDBLOCK*2 -> CONVBLOCK -> IDBLOCK*3\n",
    "    -> CONVBLOCK -> IDBLOCK*5 -> CONVBLOCK -> IDBLOCK*2 -> AVGPOOL -> TOPLAYER\n",
    "\n",
    "    Arguments:\n",
    "    input_shape -- shape of the images of the dataset\n",
    "    classes -- integer, number of classes\n",
    "\n",
    "    Returns:\n",
    "    model -- a Model() instance in Keras\n",
    "    \"\"\"\n",
    "\n",
    "    # Define the input as a tensor with shape input_shape\n",
    "    X_input = Input(input_shape)\n",
    "    print(X_input.shape)\n",
    "#     Zero-Padding\n",
    "    X = ZeroPadding3D((3, 3, 3))(X_input)\n",
    "    print(X.shape)\n",
    "\n",
    "    # Stage 1\n",
    "    X = Conv3D(32, (3, 3, 2), name='conv1',kernel_regularizer=l2(0.000001), bias_regularizer=l2(0.00001), kernel_initializer=glorot_uniform(seed=0))(X)\n",
    "    print(X.shape)\n",
    "    X = BatchNormalization(axis=4, name='bn_conv1')(X)\n",
    "    X = Activation('relu')(X)\n",
    "    X = MaxPooling3D((2, 2, 1), strides=None)(X)\n",
    "    print(X.shape)\n",
    "    # Stage 2\n",
    "    F1 = 16\n",
    "    X = SR_Unit(X, filters=[F1, F1, F1, F1], stage=2, block='a')\n",
    "    print(X.shape)\n",
    "    F2 = 32\n",
    "    X = SR_Unit(X, filters=[F2, F2, F2, F2], stage=3, block='a')\n",
    "    print(X.shape)\n",
    "    F3 = 64\n",
    "    X = SR_Unit(X, filters=[F3, F3, F3, F3], stage=4, block='a')\n",
    "    print(X.shape)\n",
    "    F4 = 128\n",
    "#     X = SR_Unit(X, filters=[F4, F4, F4, F4], stage=5, block='a')\n",
    "#     print(X.shape)\n",
    "\n",
    "    # AVGPOOL (≈1 line). Use \"X = AveragePooling2D(...)(X)\"\n",
    "    X = GlobalMaxPooling3D()(X)\n",
    "    print(X.shape)\n",
    "    ### END CODE HERE ###\n",
    "\n",
    "    # output layer\n",
    "#     X = Flatten()(X)\n",
    "    X = Dense(classes, input_dim=256, activation='softmax', name='fc' + str(classes), kernel_initializer = glorot_uniform(seed=0))(X)\n",
    "    \n",
    "    \n",
    "    # Create model\n",
    "    model = Model(inputs = X_input, outputs = X, name=\"3D-SRNet\")\n",
    "\n",
    "    return model"
   ]
  },
  {
   "cell_type": "code",
   "execution_count": 32,
   "metadata": {},
   "outputs": [
    {
     "name": "stdout",
     "output_type": "stream",
     "text": [
      "(?, 50, 50, 38, 1)\n",
      "(?, 56, 56, 44, 1)\n",
      "(?, 54, 54, 43, 32)\n",
      "(?, 27, 27, 43, 32)\n",
      "(?, 27, 27, 43, 32)\n",
      "(?, 27, 27, 43, 16)\n",
      "11\n",
      "(?, 27, 27, 43, 16)\n",
      "(?, 13, 13, 43, 16)\n",
      "(?, 13, 13, 21, 16)\n",
      "(?, 13, 13, 21, 16)\n",
      "(?, 13, 13, 21, 16)\n",
      "(?, 13, 13, 21, 16)\n",
      "(?, 13, 13, 21, 16)\n",
      "(?, 13, 13, 21, 32)\n",
      "11\n",
      "(?, 13, 13, 21, 32)\n",
      "(?, 6, 6, 21, 32)\n",
      "(?, 6, 6, 10, 32)\n",
      "(?, 6, 6, 10, 32)\n",
      "(?, 6, 6, 10, 32)\n",
      "(?, 6, 6, 10, 32)\n",
      "(?, 6, 6, 10, 32)\n",
      "(?, 6, 6, 10, 64)\n",
      "11\n",
      "(?, 6, 6, 10, 64)\n",
      "(?, 2, 2, 10, 64)\n",
      "(?, 2, 2, 4, 64)\n",
      "(?, 2, 2, 4, 64)\n",
      "(?, 2, 2, 4, 64)\n",
      "(?, 2, 2, 4, 64)\n",
      "(?, 64)\n"
     ]
    }
   ],
   "source": [
    "model = model(input_shape = (50, 50, 38, 1), classes = 9)"
   ]
  },
  {
   "cell_type": "code",
   "execution_count": 33,
   "metadata": {},
   "outputs": [
    {
     "name": "stdout",
     "output_type": "stream",
     "text": [
      "Model: \"3D-SRNet\"\n",
      "__________________________________________________________________________________________________\n",
      "Layer (type)                    Output Shape         Param #     Connected to                     \n",
      "==================================================================================================\n",
      "input_1 (InputLayer)            (None, 50, 50, 38, 1 0                                            \n",
      "__________________________________________________________________________________________________\n",
      "zero_padding3d_1 (ZeroPadding3D (None, 56, 56, 44, 1 0           input_1[0][0]                    \n",
      "__________________________________________________________________________________________________\n",
      "conv1 (Conv3D)                  (None, 54, 54, 43, 3 608         zero_padding3d_1[0][0]           \n",
      "__________________________________________________________________________________________________\n",
      "bn_conv1 (BatchNormalization)   (None, 54, 54, 43, 3 128         conv1[0][0]                      \n",
      "__________________________________________________________________________________________________\n",
      "activation_1 (Activation)       (None, 54, 54, 43, 3 0           bn_conv1[0][0]                   \n",
      "__________________________________________________________________________________________________\n",
      "max_pooling3d_1 (MaxPooling3D)  (None, 27, 27, 43, 3 0           activation_1[0][0]               \n",
      "__________________________________________________________________________________________________\n",
      "res2a_branch2a (Conv3D)         (None, 27, 27, 43, 1 528         max_pooling3d_1[0][0]            \n",
      "__________________________________________________________________________________________________\n",
      "bn2a_branch2a (BatchNormalizati (None, 27, 27, 43, 1 64          res2a_branch2a[0][0]             \n",
      "__________________________________________________________________________________________________\n",
      "activation_2 (Activation)       (None, 27, 27, 43, 1 0           bn2a_branch2a[0][0]              \n",
      "__________________________________________________________________________________________________\n",
      "res2a_branch2b (Conv3D)         (None, 13, 13, 43, 1 2320        activation_2[0][0]               \n",
      "__________________________________________________________________________________________________\n",
      "bn2a_branch2b (BatchNormalizati (None, 13, 13, 43, 1 64          res2a_branch2b[0][0]             \n",
      "__________________________________________________________________________________________________\n",
      "activation_3 (Activation)       (None, 13, 13, 43, 1 0           bn2a_branch2b[0][0]              \n",
      "__________________________________________________________________________________________________\n",
      "res2a_branch2c (Conv3D)         (None, 13, 13, 21, 1 784         activation_3[0][0]               \n",
      "__________________________________________________________________________________________________\n",
      "bn2a_branch2c (BatchNormalizati (None, 13, 13, 21, 1 64          res2a_branch2c[0][0]             \n",
      "__________________________________________________________________________________________________\n",
      "activation_4 (Activation)       (None, 13, 13, 21, 1 0           bn2a_branch2c[0][0]              \n",
      "__________________________________________________________________________________________________\n",
      "res2a_branch2d (Conv3D)         (None, 13, 13, 21, 1 272         activation_4[0][0]               \n",
      "__________________________________________________________________________________________________\n",
      "res2a_branch1 (Conv3D)          (None, 13, 13, 21, 1 13840       max_pooling3d_1[0][0]            \n",
      "__________________________________________________________________________________________________\n",
      "bn2a_branch2d (BatchNormalizati (None, 13, 13, 21, 1 64          res2a_branch2d[0][0]             \n",
      "__________________________________________________________________________________________________\n",
      "bn2a_branch1 (BatchNormalizatio (None, 13, 13, 21, 1 64          res2a_branch1[0][0]              \n",
      "__________________________________________________________________________________________________\n",
      "add_1 (Add)                     (None, 13, 13, 21, 1 0           bn2a_branch2d[0][0]              \n",
      "                                                                 bn2a_branch1[0][0]               \n",
      "__________________________________________________________________________________________________\n",
      "activation_5 (Activation)       (None, 13, 13, 21, 1 0           add_1[0][0]                      \n",
      "__________________________________________________________________________________________________\n",
      "res3a_branch2a (Conv3D)         (None, 13, 13, 21, 3 544         activation_5[0][0]               \n",
      "__________________________________________________________________________________________________\n",
      "bn3a_branch2a (BatchNormalizati (None, 13, 13, 21, 3 128         res3a_branch2a[0][0]             \n",
      "__________________________________________________________________________________________________\n",
      "activation_6 (Activation)       (None, 13, 13, 21, 3 0           bn3a_branch2a[0][0]              \n",
      "__________________________________________________________________________________________________\n",
      "res3a_branch2b (Conv3D)         (None, 6, 6, 21, 32) 9248        activation_6[0][0]               \n",
      "__________________________________________________________________________________________________\n",
      "bn3a_branch2b (BatchNormalizati (None, 6, 6, 21, 32) 128         res3a_branch2b[0][0]             \n",
      "__________________________________________________________________________________________________\n",
      "activation_7 (Activation)       (None, 6, 6, 21, 32) 0           bn3a_branch2b[0][0]              \n",
      "__________________________________________________________________________________________________\n",
      "res3a_branch2c (Conv3D)         (None, 6, 6, 10, 32) 3104        activation_7[0][0]               \n",
      "__________________________________________________________________________________________________\n",
      "bn3a_branch2c (BatchNormalizati (None, 6, 6, 10, 32) 128         res3a_branch2c[0][0]             \n",
      "__________________________________________________________________________________________________\n",
      "activation_8 (Activation)       (None, 6, 6, 10, 32) 0           bn3a_branch2c[0][0]              \n",
      "__________________________________________________________________________________________________\n",
      "res3a_branch2d (Conv3D)         (None, 6, 6, 10, 32) 1056        activation_8[0][0]               \n",
      "__________________________________________________________________________________________________\n",
      "res3a_branch1 (Conv3D)          (None, 6, 6, 10, 32) 13856       activation_5[0][0]               \n",
      "__________________________________________________________________________________________________\n",
      "bn3a_branch2d (BatchNormalizati (None, 6, 6, 10, 32) 128         res3a_branch2d[0][0]             \n",
      "__________________________________________________________________________________________________\n",
      "bn3a_branch1 (BatchNormalizatio (None, 6, 6, 10, 32) 128         res3a_branch1[0][0]              \n",
      "__________________________________________________________________________________________________\n",
      "add_2 (Add)                     (None, 6, 6, 10, 32) 0           bn3a_branch2d[0][0]              \n",
      "                                                                 bn3a_branch1[0][0]               \n",
      "__________________________________________________________________________________________________\n",
      "activation_9 (Activation)       (None, 6, 6, 10, 32) 0           add_2[0][0]                      \n",
      "__________________________________________________________________________________________________\n",
      "res4a_branch2a (Conv3D)         (None, 6, 6, 10, 64) 2112        activation_9[0][0]               \n",
      "__________________________________________________________________________________________________\n",
      "bn4a_branch2a (BatchNormalizati (None, 6, 6, 10, 64) 256         res4a_branch2a[0][0]             \n",
      "__________________________________________________________________________________________________\n",
      "activation_10 (Activation)      (None, 6, 6, 10, 64) 0           bn4a_branch2a[0][0]              \n",
      "__________________________________________________________________________________________________\n",
      "res4a_branch2b (Conv3D)         (None, 2, 2, 10, 64) 36928       activation_10[0][0]              \n",
      "__________________________________________________________________________________________________\n",
      "bn4a_branch2b (BatchNormalizati (None, 2, 2, 10, 64) 256         res4a_branch2b[0][0]             \n",
      "__________________________________________________________________________________________________\n",
      "activation_11 (Activation)      (None, 2, 2, 10, 64) 0           bn4a_branch2b[0][0]              \n",
      "__________________________________________________________________________________________________\n",
      "res4a_branch2c (Conv3D)         (None, 2, 2, 4, 64)  12352       activation_11[0][0]              \n",
      "__________________________________________________________________________________________________\n",
      "bn4a_branch2c (BatchNormalizati (None, 2, 2, 4, 64)  256         res4a_branch2c[0][0]             \n",
      "__________________________________________________________________________________________________\n",
      "activation_12 (Activation)      (None, 2, 2, 4, 64)  0           bn4a_branch2c[0][0]              \n",
      "__________________________________________________________________________________________________\n",
      "res4a_branch2d (Conv3D)         (None, 2, 2, 4, 64)  4160        activation_12[0][0]              \n",
      "__________________________________________________________________________________________________\n",
      "res4a_branch1 (Conv3D)          (None, 2, 2, 4, 64)  55360       activation_9[0][0]               \n",
      "__________________________________________________________________________________________________\n",
      "bn4a_branch2d (BatchNormalizati (None, 2, 2, 4, 64)  256         res4a_branch2d[0][0]             \n",
      "__________________________________________________________________________________________________\n",
      "bn4a_branch1 (BatchNormalizatio (None, 2, 2, 4, 64)  256         res4a_branch1[0][0]              \n",
      "__________________________________________________________________________________________________\n",
      "add_3 (Add)                     (None, 2, 2, 4, 64)  0           bn4a_branch2d[0][0]              \n",
      "                                                                 bn4a_branch1[0][0]               \n",
      "__________________________________________________________________________________________________\n",
      "activation_13 (Activation)      (None, 2, 2, 4, 64)  0           add_3[0][0]                      \n",
      "__________________________________________________________________________________________________\n",
      "global_max_pooling3d_1 (GlobalM (None, 64)           0           activation_13[0][0]              \n",
      "__________________________________________________________________________________________________\n",
      "fc9 (Dense)                     (None, 9)            585         global_max_pooling3d_1[0][0]     \n",
      "==================================================================================================\n",
      "Total params: 160,025\n",
      "Trainable params: 158,841\n",
      "Non-trainable params: 1,184\n",
      "__________________________________________________________________________________________________\n"
     ]
    }
   ],
   "source": [
    "model.summary()"
   ]
  },
  {
   "cell_type": "code",
   "execution_count": 34,
   "metadata": {},
   "outputs": [
    {
     "name": "stdout",
     "output_type": "stream",
     "text": [
      "Epoch 1/15\n",
      "4940/4940 [==============================] - 33s 7ms/step - loss: 2.4971 - categorical_accuracy: 0.1745\n",
      "Epoch 2/15\n",
      "4940/4940 [==============================] - 24s 5ms/step - loss: 2.1077 - categorical_accuracy: 0.2427\n",
      "Epoch 3/15\n",
      "4940/4940 [==============================] - 24s 5ms/step - loss: 1.9083 - categorical_accuracy: 0.2990\n",
      "Epoch 4/15\n",
      "4940/4940 [==============================] - 24s 5ms/step - loss: 1.7565 - categorical_accuracy: 0.3547\n",
      "Epoch 5/15\n",
      "4940/4940 [==============================] - 24s 5ms/step - loss: 1.6422 - categorical_accuracy: 0.4061\n",
      "Epoch 6/15\n",
      "4940/4940 [==============================] - 24s 5ms/step - loss: 1.5448 - categorical_accuracy: 0.4530\n",
      "Epoch 7/15\n",
      "4940/4940 [==============================] - 24s 5ms/step - loss: 1.4472 - categorical_accuracy: 0.4913\n",
      "Epoch 8/15\n",
      "4940/4940 [==============================] - 24s 5ms/step - loss: 1.3617 - categorical_accuracy: 0.5423\n",
      "Epoch 9/15\n",
      "4940/4940 [==============================] - 24s 5ms/step - loss: 1.2804 - categorical_accuracy: 0.5806\n",
      "Epoch 10/15\n",
      "4940/4940 [==============================] - 24s 5ms/step - loss: 1.2055 - categorical_accuracy: 0.6152\n",
      "Epoch 11/15\n",
      "4940/4940 [==============================] - 24s 5ms/step - loss: 1.1392 - categorical_accuracy: 0.6368\n",
      "Epoch 12/15\n",
      "4940/4940 [==============================] - 24s 5ms/step - loss: 1.0550 - categorical_accuracy: 0.6808\n",
      "Epoch 13/15\n",
      "4940/4940 [==============================] - 24s 5ms/step - loss: 0.9973 - categorical_accuracy: 0.7093\n",
      "Epoch 14/15\n",
      "4940/4940 [==============================] - 24s 5ms/step - loss: 0.9367 - categorical_accuracy: 0.7324\n",
      "Epoch 15/15\n",
      "4940/4940 [==============================] - 24s 5ms/step - loss: 0.8723 - categorical_accuracy: 0.7506\n"
     ]
    },
    {
     "data": {
      "text/plain": [
       "<keras.callbacks.History at 0x27204923400>"
      ]
     },
     "execution_count": 34,
     "metadata": {},
     "output_type": "execute_result"
    }
   ],
   "source": [
    "model.compile(optimizer= keras.optimizers.SGD(lr=0.01), loss='categorical_crossentropy', metrics=['categorical_accuracy'])\n",
    "model.fit(Xtrain, Ytrain, epochs = 15, batch_size = 64)"
   ]
  },
  {
   "cell_type": "code",
   "execution_count": 35,
   "metadata": {},
   "outputs": [
    {
     "name": "stdout",
     "output_type": "stream",
     "text": [
      "1235/1235 [==============================] - 3s 3ms/step\n",
      "Loss = 2.7274719854115475\n",
      "Test Accuracy = 0.15465587046947557\n"
     ]
    }
   ],
   "source": [
    "preds = model.evaluate(Xtest, Ytest)\n",
    "print (\"Loss = \" + str(preds[0]))\n",
    "print (\"Test Accuracy = \" + str(preds[1]))"
   ]
  },
  {
   "cell_type": "code",
   "execution_count": 36,
   "metadata": {},
   "outputs": [],
   "source": [
    "y_pred = model.predict(Xtest)"
   ]
  },
  {
   "cell_type": "code",
   "execution_count": 37,
   "metadata": {},
   "outputs": [],
   "source": [
    "import sklearn.metrics\n",
    "confusion_matrix = sklearn.metrics.confusion_matrix(np.argmax(Ytest, axis=1), np.argmax(y_pred, axis=1))"
   ]
  },
  {
   "cell_type": "code",
   "execution_count": 38,
   "metadata": {},
   "outputs": [
    {
     "data": {
      "text/plain": [
       "array([[77, 55, 37, 42, 10, 19,  9, 39,  2],\n",
       "       [75, 64, 24, 42,  7, 16,  7, 37,  0],\n",
       "       [29, 26,  9, 20,  4,  9,  7,  7,  0],\n",
       "       [36, 31, 12, 18,  3,  8,  5, 18,  1],\n",
       "       [14, 18,  9, 12,  1,  5,  5,  8,  0],\n",
       "       [27, 16,  7, 10,  0,  1,  3, 15,  0],\n",
       "       [24, 29,  2,  7,  4,  6,  4, 10,  0],\n",
       "       [48, 45, 10, 26,  3, 14,  3, 17,  1],\n",
       "       [13,  2,  3,  4,  0,  1,  2,  1,  0]], dtype=int64)"
      ]
     },
     "execution_count": 38,
     "metadata": {},
     "output_type": "execute_result"
    }
   ],
   "source": [
    "confusion_matrix"
   ]
  },
  {
   "cell_type": "code",
   "execution_count": null,
   "metadata": {},
   "outputs": [],
   "source": []
  }
 ],
 "metadata": {
  "kernelspec": {
   "display_name": "Python 3",
   "language": "python",
   "name": "python3"
  },
  "language_info": {
   "codemirror_mode": {
    "name": "ipython",
    "version": 3
   },
   "file_extension": ".py",
   "mimetype": "text/x-python",
   "name": "python",
   "nbconvert_exporter": "python",
   "pygments_lexer": "ipython3",
   "version": "3.7.3"
  }
 },
 "nbformat": 4,
 "nbformat_minor": 2
}
